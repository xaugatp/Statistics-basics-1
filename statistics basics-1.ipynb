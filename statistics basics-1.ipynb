{
 "cells": [
  {
   "cell_type": "code",
   "execution_count": 1,
   "id": "ea7aa2d9-b7c8-4c40-8e48-e2193e4e2b91",
   "metadata": {},
   "outputs": [],
   "source": [
    "#Q1. What is Statistics?\n"
   ]
  },
  {
   "cell_type": "code",
   "execution_count": 3,
   "id": "ffe5975f-1b4a-4a87-89ab-8a4b9cbb5190",
   "metadata": {},
   "outputs": [
    {
     "data": {
      "text/plain": [
       "' Statistics is the science of collecting, organizing and analyzing data.'"
      ]
     },
     "execution_count": 3,
     "metadata": {},
     "output_type": "execute_result"
    }
   ],
   "source": [
    "''' Statistics is the science of collecting, organizing and analyzing data.'''"
   ]
  },
  {
   "cell_type": "code",
   "execution_count": 4,
   "id": "dae39231-495e-4fa8-b62a-c34b2882ba8c",
   "metadata": {},
   "outputs": [],
   "source": [
    "#Q2. Define the different types of statistics and give an example of when each type might be used."
   ]
  },
  {
   "cell_type": "code",
   "execution_count": 6,
   "id": "a957cfc8-e8f4-4800-9f32-5a433c4636b3",
   "metadata": {},
   "outputs": [
    {
     "data": {
      "text/plain": [
       "' Different types of statistics are : \\ni) Descriptive Statistics\\nii) Inferial Statistics\\n\\nDescriptive Statistics\\nDescriptive statistics are numerical and graphical summaries used to provide a consise overview of data, including measure of central tendency, \\ndespersion, and shape of the disttribution, aiding in the understanding and communication of data characteristics.\\nDescriptive statistics might be used when analyzing the grade of students in a class to provide a summary of their performance including the\\naverage grade(mean), the spread of the score(standard deviation) and the most commoon  grade (mode).\\n\\nInferial Statistics\\nInferial statistics is the branch of statistics that involves drawing conclusions and making predictions about population based on sample data, using \\nmethods like hypothesis testing and confidence intervals. It thelps generalized findings from a sample to a large population, enabling informed \\ndecision-making and scientific inferance.\\nInferential statistics might be used when a pharmaceutical company wants to determine if a new drug is effective in treating a specific medical \\ncondition. They conduct clinical trials on sample of patients and use inferial statistics to extrapolate the results from the sample to entire \\npopulation of potential patients, helping to make decision about the drugs efficiency and safety for broder use.'"
      ]
     },
     "execution_count": 6,
     "metadata": {},
     "output_type": "execute_result"
    }
   ],
   "source": [
    "''' Different types of statistics are : \n",
    "i) Descriptive Statistics\n",
    "ii) Inferial Statistics\n",
    "\n",
    "Descriptive Statistics\n",
    "Descriptive statistics are numerical and graphical summaries used to provide a consise overview of data, including measure of central tendency, \n",
    "despersion, and shape of the disttribution, aiding in the understanding and communication of data characteristics.\n",
    "Descriptive statistics might be used when analyzing the grade of students in a class to provide a summary of their performance including the\n",
    "average grade(mean), the spread of the score(standard deviation) and the most commoon  grade (mode).\n",
    "\n",
    "Inferial Statistics\n",
    "Inferial statistics is the branch of statistics that involves drawing conclusions and making predictions about population based on sample data, using \n",
    "methods like hypothesis testing and confidence intervals. It thelps generalized findings from a sample to a large population, enabling informed \n",
    "decision-making and scientific inferance.\n",
    "Inferential statistics might be used when a pharmaceutical company wants to determine if a new drug is effective in treating a specific medical \n",
    "condition. They conduct clinical trials on sample of patients and use inferial statistics to extrapolate the results from the sample to entire \n",
    "population of potential patients, helping to make decision about the drugs efficiency and safety for broder use.'''\n",
    "\n"
   ]
  },
  {
   "cell_type": "code",
   "execution_count": 8,
   "id": "dd60fdeb-41ec-4988-81df-4c099c035c28",
   "metadata": {},
   "outputs": [],
   "source": [
    "#Q3. What are the different types of data and how do they differ from each other? Provide an example of each type of data."
   ]
  },
  {
   "cell_type": "code",
   "execution_count": 2,
   "id": "dbe36696-0e32-4390-bc83-229ed2f8bc7a",
   "metadata": {},
   "outputs": [
    {
     "data": {
      "text/plain": [
       "'There are 4 types of data each with sistinct characteristics:\\ni) Nominal Data ( Qualitative Data):\\n->Nominal data consists of categories or labels with no inherent order or ranking.\\n->Example: Gender(Male,Female), Eye Colour(Blue,Brown,Green), Types of fruit(Apple,Banana,Orange).\\n\\nii) Ordinal Data( Qualitative Data):\\n->Ordinal data consist of categories with specific order or ranking , but the interval between categories are not uniform.\\n->Example: Education Level(High School,College,Graduate),Customer Satisfaction Rating( Very Dissatisfied, Somewhat Satisfied, Very Satisfied)\\n\\niii) Interval Data(Quantative Data):\\n->Interval data is numerical data with a consistent interval between values, but it lacks a true zero point.\\n->Example: Temperature in Celsius or Farenhight(0 degree Celcius or 0 degree F doesnot represent an absence of temperature), IQ Score(where score of\\n0 doesnot indicate the absence of intelligence)\\n\\niv)Ratio Data(Quantative Data)\\n->Ratio data is numeric data with a consistent interval between values and a true zero point, meaning that zero indicates an absence of the measured \\nattribute.\\nExample: Height(measured in inches or centimeters, with a true zero point), Weight(measured in pounds or kilograms, with a true zero points),Age'"
      ]
     },
     "execution_count": 2,
     "metadata": {},
     "output_type": "execute_result"
    }
   ],
   "source": [
    "'''There are 4 types of data each with sistinct characteristics:\n",
    "i) Nominal Data ( Qualitative Data):\n",
    "->Nominal data consists of categories or labels with no inherent order or ranking.\n",
    "->Example: Gender(Male,Female), Eye Colour(Blue,Brown,Green), Types of fruit(Apple,Banana,Orange).\n",
    "\n",
    "ii) Ordinal Data( Qualitative Data):\n",
    "->Ordinal data consist of categories with specific order or ranking , but the interval between categories are not uniform.\n",
    "->Example: Education Level(High School,College,Graduate),Customer Satisfaction Rating( Very Dissatisfied, Somewhat Satisfied, Very Satisfied)\n",
    "\n",
    "iii) Interval Data(Quantative Data):\n",
    "->Interval data is numerical data with a consistent interval between values, but it lacks a true zero point.\n",
    "->Example: Temperature in Celsius or Farenhight(0 degree Celcius or 0 degree F doesnot represent an absence of temperature), IQ Score(where score of\n",
    "0 doesnot indicate the absence of intelligence)\n",
    "\n",
    "iv)Ratio Data(Quantative Data)\n",
    "->Ratio data is numeric data with a consistent interval between values and a true zero point, meaning that zero indicates an absence of the measured \n",
    "attribute.\n",
    "Example: Height(measured in inches or centimeters, with a true zero point), Weight(measured in pounds or kilograms, with a true zero points),Age'''"
   ]
  },
  {
   "cell_type": "code",
   "execution_count": 3,
   "id": "7c433e0b-a5a8-47d1-ba3f-ace3073c71b2",
   "metadata": {},
   "outputs": [
    {
     "data": {
      "text/plain": [
       "'Q4. Categorise the following datasets with respect to quantitative and qualitative data types:\\n(i) Grading in exam: A+, A, B+, B, C+, C, D, E\\n(ii) Colour of mangoes: yellow, green, orange, red\\n(iii) Height data of a class: [178.9, 179, 179.5, 176, 177.2, 178.3, 175.8,...]\\n(iv) Number of mangoes exported by a farm: [500, 600, 478, 672, ...]'"
      ]
     },
     "execution_count": 3,
     "metadata": {},
     "output_type": "execute_result"
    }
   ],
   "source": [
    "'''Q4. Categorise the following datasets with respect to quantitative and qualitative data types:\n",
    "(i) Grading in exam: A+, A, B+, B, C+, C, D, E\n",
    "(ii) Colour of mangoes: yellow, green, orange, red\n",
    "(iii) Height data of a class: [178.9, 179, 179.5, 176, 177.2, 178.3, 175.8,...]\n",
    "(iv) Number of mangoes exported by a farm: [500, 600, 478, 672, ...]'''"
   ]
  },
  {
   "cell_type": "code",
   "execution_count": 5,
   "id": "9273e00e-3a68-45dd-bb51-7b11cb050645",
   "metadata": {},
   "outputs": [
    {
     "data": {
      "text/plain": [
       "' i) Qualitative\\nii) Qualitative\\niii)Quantative\\niv) Quantative '"
      ]
     },
     "execution_count": 5,
     "metadata": {},
     "output_type": "execute_result"
    }
   ],
   "source": [
    "''' i) Qualitative\n",
    "ii) Qualitative\n",
    "iii)Quantative\n",
    "iv) Quantative '''"
   ]
  },
  {
   "cell_type": "code",
   "execution_count": 6,
   "id": "dec636ef-b944-41c7-ac2f-732332d475d2",
   "metadata": {},
   "outputs": [],
   "source": [
    "#Q5. Explain the concept of levels of measurement and give an example of a variable for each level."
   ]
  },
  {
   "cell_type": "code",
   "execution_count": 1,
   "id": "a9def64c-bc76-41da-a8d1-d476eeaed4f6",
   "metadata": {},
   "outputs": [
    {
     "data": {
      "text/plain": [
       "' The concept of level of measurement also knows as scale of measurement refers to a hierarchical structure that categories diffrent \\ntypes of data based on the properties and characteristics of the data.Levels of measurement categorize data into four types based on\\ntheir properties:\\ni) Nominal (Categorical):Categories with no inherent order(e.g.,Eye colours)\\nii) Ordinal(Categorical with order):Categorical with an order (e.g.,Education level)\\niii)Interval(Numeric with Equal Intervals): Numeric data with consistent intervals but no true zero(e.g.,Celsius Temperature)\\niv) Ratio(Numeric with True Zero) : Numeric data with consistent intervals and true zero points (e.g., Height in centimeters)'"
      ]
     },
     "execution_count": 1,
     "metadata": {},
     "output_type": "execute_result"
    }
   ],
   "source": [
    "''' The concept of level of measurement also knows as scale of measurement refers to a hierarchical structure that categories diffrent \n",
    "types of data based on the properties and characteristics of the data.Levels of measurement categorize data into four types based on\n",
    "their properties:\n",
    "i) Nominal (Categorical):Categories with no inherent order(e.g.,Eye colours)\n",
    "ii) Ordinal(Categorical with order):Categorical with an order (e.g.,Education level)\n",
    "iii)Interval(Numeric with Equal Intervals): Numeric data with consistent intervals but no true zero(e.g.,Celsius Temperature)\n",
    "iv) Ratio(Numeric with True Zero) : Numeric data with consistent intervals and true zero points (e.g., Height in centimeters)'''"
   ]
  },
  {
   "cell_type": "code",
   "execution_count": 2,
   "id": "449bbd5e-5f1e-4dea-98de-c8dab2c1074e",
   "metadata": {},
   "outputs": [],
   "source": [
    "#Q6. Why is it important to understand the level of measurement when analyzing data? Provide a example to illustrate your answer."
   ]
  },
  {
   "cell_type": "code",
   "execution_count": 4,
   "id": "929c7dd9-63e0-4ddc-a5de-f66cd4895123",
   "metadata": {},
   "outputs": [
    {
     "data": {
      "text/plain": [
       "'Understanding the level of measurement is vital because it dictates which statistatical methods are appropriate .Using the wrong level\\ncan lead to incorrect conclusion. For instance, treating ordinal data as nominal or numeric can yield innacurate results, impacting decison-makling.'"
      ]
     },
     "execution_count": 4,
     "metadata": {},
     "output_type": "execute_result"
    }
   ],
   "source": [
    "'''Understanding the level of measurement is vital because it dictates which statistatical methods are appropriate .Using the wrong level\n",
    "can lead to incorrect conclusion. For instance, treating ordinal data as nominal or numeric can yield innacurate results, impacting decison-makling.'''\n"
   ]
  },
  {
   "cell_type": "code",
   "execution_count": 5,
   "id": "33c1089a-174f-44b7-91a8-7e493947d4bd",
   "metadata": {},
   "outputs": [],
   "source": [
    "#Q7. How nominal data type is different from ordinal data type."
   ]
  },
  {
   "cell_type": "code",
   "execution_count": 6,
   "id": "cc6f0b5e-b5df-4ff6-8783-4a37f3effa44",
   "metadata": {},
   "outputs": [
    {
     "data": {
      "text/plain": [
       "' Nominal data comprises categories without any inherent order, such as colors or types of animals.In constrast, ordinal data includes \\ncategories with defined order, like education levels or costumer satisfaction ratings, but the intervals between them are not consistently \\nmeasurable.'"
      ]
     },
     "execution_count": 6,
     "metadata": {},
     "output_type": "execute_result"
    }
   ],
   "source": [
    "''' Nominal data comprises categories without any inherent order, such as colors or types of animals.In constrast, ordinal data includes \n",
    "categories with defined order, like education levels or costumer satisfaction ratings, but the intervals between them are not consistently \n",
    "measurable.'''"
   ]
  },
  {
   "cell_type": "code",
   "execution_count": 7,
   "id": "99c66bcb-c8b2-44a3-a4ae-7cc31bf8532c",
   "metadata": {},
   "outputs": [],
   "source": [
    "#Q8. Which type of plot can be used to display data in terms of range?"
   ]
  },
  {
   "cell_type": "code",
   "execution_count": 9,
   "id": "02f3055d-4175-4260-b305-8734e59da983",
   "metadata": {},
   "outputs": [
    {
     "data": {
      "text/plain": [
       "'A box plot, also known as a box-and-whisker plot, is used to display data in terms of its range. It shows the minimum, first quartile,\\nmedian, third quartile and maximum values providing a visual summary of data distribution and spread. Box plots are useful for identifying \\noutliers and comparing data across different groups.'"
      ]
     },
     "execution_count": 9,
     "metadata": {},
     "output_type": "execute_result"
    }
   ],
   "source": [
    "'''A box plot, also known as a box-and-whisker plot, is used to display data in terms of its range. It shows the minimum, first quartile,\n",
    "median, third quartile and maximum values providing a visual summary of data distribution and spread. Box plots are useful for identifying \n",
    "outliers and comparing data across different groups.'''"
   ]
  },
  {
   "cell_type": "code",
   "execution_count": 10,
   "id": "2eac869f-5103-4f89-a06a-f06d98ad3a6b",
   "metadata": {},
   "outputs": [],
   "source": [
    "#Q9. Describe the difference between descriptive and inferential statistics. Give an example of each type of statistics and explain how \n",
    "#they are used."
   ]
  },
  {
   "cell_type": "code",
   "execution_count": 11,
   "id": "5b02e205-e857-4bb9-9c43-b94ceb88592b",
   "metadata": {},
   "outputs": [
    {
     "data": {
      "text/plain": [
       "' Descriptive statistics summarizes and describe data, such as calculating averages or creating charts. For example finding a mean height\\nof students in a class.\\n\\nInferential statistics make predictions or draw conclusion about a larger population based on sample. For example determining if a new \\nteaching method is effective for all students based on data from a sample.'"
      ]
     },
     "execution_count": 11,
     "metadata": {},
     "output_type": "execute_result"
    }
   ],
   "source": [
    "''' Descriptive statistics summarizes and describe data, such as calculating averages or creating charts. For example finding a mean height\n",
    "of students in a class.\n",
    "\n",
    "Inferential statistics make predictions or draw conclusion about a larger population based on sample. For example determining if a new \n",
    "teaching method is effective for all students based on data from a sample.'''"
   ]
  },
  {
   "cell_type": "code",
   "execution_count": 12,
   "id": "76bb9fab-e09a-4035-b75f-284e16b6fd79",
   "metadata": {},
   "outputs": [],
   "source": [
    "#Q10. What are some common measures of central tendency and variability used in statistics? Explain how each measure can be used to describe a dataset."
   ]
  },
  {
   "cell_type": "code",
   "execution_count": 14,
   "id": "9c3aa5ee-0c52-4187-b227-0ffdeccb847b",
   "metadata": {},
   "outputs": [
    {
     "data": {
      "text/plain": [
       "\" Common measures of centeral tendency and variability used in statistics include:\\nMeasure of Central Tendency\\n1) Mean(Average): The sum of all values in a dataset divided by the number of values. It represents the central or typical value.\\nUse: Describes the typical value in a dataset, suitable for data with a roughly symmetric distribution.\\n2) Median: The middle value when data is arranged in ascending or descending order. It's not affected by extreme outliers.\\nUse: Provides the middle point of dataset, suitable for skewed data or data with outliers.\\n3) Mode: The most frequently occuring values in a dataset.\\nUse: Identifies the most common values in categorical or discrete data.\\n\\nMeasuree of Variability\\n1) Range : The diffrence between the maximum and minimum values in a dataset. \\nUse: Indicates the spread of data; simple but sensetive to iutliers.\\n2) Variance: A measure of how individual data points deviate from the mean. It involves squaring diffrences from the mean and calculating \\ntheir average.\\n3) Standard Deviation: The square root of the variance. It measures the average deviation of data points from the mean.Use: Provides a more interpretable measure of variability compared to variance.\\n4) Interquartile Range( IQR) : The range between the first quartile (Q1) and third quartile (Q3). It represents the middle 50% of the data.\\nUse: Measures the spreadf of the central portion of the data resistant to extreme values.\""
      ]
     },
     "execution_count": 14,
     "metadata": {},
     "output_type": "execute_result"
    }
   ],
   "source": [
    "''' Common measures of centeral tendency and variability used in statistics include:\n",
    "Measure of Central Tendency\n",
    "1) Mean(Average): The sum of all values in a dataset divided by the number of values. It represents the central or typical value.\n",
    "Use: Describes the typical value in a dataset, suitable for data with a roughly symmetric distribution.\n",
    "2) Median: The middle value when data is arranged in ascending or descending order. It's not affected by extreme outliers.\n",
    "Use: Provides the middle point of dataset, suitable for skewed data or data with outliers.\n",
    "3) Mode: The most frequently occuring values in a dataset.\n",
    "Use: Identifies the most common values in categorical or discrete data.\n",
    "\n",
    "Measuree of Variability\n",
    "1) Range : The diffrence between the maximum and minimum values in a dataset. \n",
    "Use: Indicates the spread of data; simple but sensetive to iutliers.\n",
    "2) Variance: A measure of how individual data points deviate from the mean. It involves squaring diffrences from the mean and calculating \n",
    "their average.\n",
    "3) Standard Deviation: The square root of the variance. It measures the average deviation of data points from the mean.\\\n",
    "Use: Provides a more interpretable measure of variability compared to variance.\n",
    "4) Interquartile Range( IQR) : The range between the first quartile (Q1) and third quartile (Q3). It represents the middle 50% of the data.\n",
    "Use: Measures the spreadf of the central portion of the data resistant to extreme values.'''\n",
    "\n"
   ]
  },
  {
   "cell_type": "code",
   "execution_count": null,
   "id": "c05ab1c3-e3e9-4c27-b648-ca7957a57c90",
   "metadata": {},
   "outputs": [],
   "source": []
  }
 ],
 "metadata": {
  "kernelspec": {
   "display_name": "Python 3 (ipykernel)",
   "language": "python",
   "name": "python3"
  },
  "language_info": {
   "codemirror_mode": {
    "name": "ipython",
    "version": 3
   },
   "file_extension": ".py",
   "mimetype": "text/x-python",
   "name": "python",
   "nbconvert_exporter": "python",
   "pygments_lexer": "ipython3",
   "version": "3.10.8"
  }
 },
 "nbformat": 4,
 "nbformat_minor": 5
}
